{
 "cells": [
  {
   "cell_type": "markdown",
   "id": "3600d727-31a2-4e82-b9d6-15caad3feedb",
   "metadata": {},
   "source": [
    "<h1 style=\"text-align: center; font-weight: bolder\">\n",
    "    Validación de los modelos\n",
    "</h1>"
   ]
  },
  {
   "cell_type": "markdown",
   "id": "ee265fd7-49ee-4838-8c00-7d7896fe9c96",
   "metadata": {},
   "source": [
    "## **Librerias**"
   ]
  },
  {
   "cell_type": "code",
   "execution_count": 1,
   "id": "ceb39b8a-d164-4335-a140-ac0529117e1f",
   "metadata": {},
   "outputs": [],
   "source": [
    "import pandas as pd\n",
    "import numpy as np\n",
    "import matplotlib.pyplot as plt\n",
    "import seaborn as sns"
   ]
  },
  {
   "cell_type": "code",
   "execution_count": 2,
   "id": "15813d0a-8609-4dc9-80ea-0ecb64566818",
   "metadata": {},
   "outputs": [],
   "source": [
    "from sklearn.tree import DecisionTreeRegressor\n",
    "\n",
    "from sklearn.model_selection import cross_val_score, KFold"
   ]
  },
  {
   "cell_type": "markdown",
   "id": "39752397-16d6-4878-b0a5-7c57049f3e98",
   "metadata": {},
   "source": [
    "## **1. Datos**"
   ]
  },
  {
   "cell_type": "code",
   "execution_count": 3,
   "id": "ce55fc2b-072e-43e1-98ca-e129bd224839",
   "metadata": {},
   "outputs": [],
   "source": [
    "# Cargamos nuestro dataset\n",
    "df = pd.read_csv('data/felicidad.csv')"
   ]
  },
  {
   "cell_type": "code",
   "execution_count": 4,
   "id": "66789182-4e9e-4908-9ef3-0e38688cfacf",
   "metadata": {},
   "outputs": [
    {
     "data": {
      "text/html": [
       "<div>\n",
       "<style scoped>\n",
       "    .dataframe tbody tr th:only-of-type {\n",
       "        vertical-align: middle;\n",
       "    }\n",
       "\n",
       "    .dataframe tbody tr th {\n",
       "        vertical-align: top;\n",
       "    }\n",
       "\n",
       "    .dataframe thead th {\n",
       "        text-align: right;\n",
       "    }\n",
       "</style>\n",
       "<table border=\"1\" class=\"dataframe\">\n",
       "  <thead>\n",
       "    <tr style=\"text-align: right;\">\n",
       "      <th></th>\n",
       "      <th>country</th>\n",
       "      <th>rank</th>\n",
       "      <th>score</th>\n",
       "      <th>high</th>\n",
       "      <th>low</th>\n",
       "      <th>gdp</th>\n",
       "      <th>family</th>\n",
       "      <th>lifexp</th>\n",
       "      <th>freedom</th>\n",
       "      <th>generosity</th>\n",
       "      <th>corruption</th>\n",
       "      <th>dystopia</th>\n",
       "    </tr>\n",
       "  </thead>\n",
       "  <tbody>\n",
       "    <tr>\n",
       "      <th>70</th>\n",
       "      <td>Hong Kong S.A.R., China</td>\n",
       "      <td>71</td>\n",
       "      <td>5.472</td>\n",
       "      <td>5.549594</td>\n",
       "      <td>5.394406</td>\n",
       "      <td>1.551675</td>\n",
       "      <td>1.262791</td>\n",
       "      <td>0.943062</td>\n",
       "      <td>0.490969</td>\n",
       "      <td>0.374466</td>\n",
       "      <td>0.293934</td>\n",
       "      <td>0.554633</td>\n",
       "    </tr>\n",
       "  </tbody>\n",
       "</table>\n",
       "</div>"
      ],
      "text/plain": [
       "                    country  rank  score      high       low       gdp  \\\n",
       "70  Hong Kong S.A.R., China    71  5.472  5.549594  5.394406  1.551675   \n",
       "\n",
       "      family    lifexp   freedom  generosity  corruption  dystopia  \n",
       "70  1.262791  0.943062  0.490969    0.374466    0.293934  0.554633  "
      ]
     },
     "execution_count": 4,
     "metadata": {},
     "output_type": "execute_result"
    }
   ],
   "source": [
    "df.sample()"
   ]
  },
  {
   "cell_type": "code",
   "execution_count": 5,
   "id": "11d4061e-7d0b-4ee5-9af8-605fea1819e8",
   "metadata": {},
   "outputs": [],
   "source": [
    "# Definimos los features y el target\n",
    "X = df.drop(['country', 'rank', 'score'], axis = 1)\n",
    "y = df['score']"
   ]
  },
  {
   "cell_type": "markdown",
   "id": "9d67f615-6a1e-4a53-8232-53364e690a41",
   "metadata": {},
   "source": [
    "## **2. Modelos**"
   ]
  },
  {
   "cell_type": "markdown",
   "id": "2c139ce9-3c95-4902-928c-9eef64832b45",
   "metadata": {},
   "source": [
    "### **Decision Tree**"
   ]
  },
  {
   "cell_type": "code",
   "execution_count": 7,
   "id": "3c4d7c54-aed0-42e8-8796-460c67f11425",
   "metadata": {},
   "outputs": [],
   "source": [
    "# Inicializamos el modelo\n",
    "decision_tree = DecisionTreeRegressor()"
   ]
  },
  {
   "cell_type": "code",
   "execution_count": 18,
   "id": "98655c8b-1d57-4cce-a70e-27a4423a507d",
   "metadata": {},
   "outputs": [],
   "source": [
    "# Utilizamos cross validation para evaluar el mejor modelo\n",
    "score = cross_val_score(decision_tree, X, y, cv=7,scoring='neg_mean_squared_error')"
   ]
  },
  {
   "cell_type": "code",
   "execution_count": 19,
   "id": "b15ed99f-b810-4e74-bc6b-f86f7875ff6f",
   "metadata": {},
   "outputs": [
    {
     "data": {
      "text/plain": [
       "array([-0.34989702, -0.03041913, -0.02023722, -0.01408362, -0.03714498,\n",
       "       -0.03957366, -0.34729937])"
      ]
     },
     "execution_count": 19,
     "metadata": {},
     "output_type": "execute_result"
    }
   ],
   "source": [
    "score"
   ]
  },
  {
   "cell_type": "code",
   "execution_count": null,
   "id": "e005f7e1-2ced-4885-bd12-9a2377828fe7",
   "metadata": {},
   "outputs": [],
   "source": []
  },
  {
   "cell_type": "code",
   "execution_count": null,
   "id": "6afa00bc-d839-4b8e-b884-cc0473cab927",
   "metadata": {},
   "outputs": [],
   "source": []
  },
  {
   "cell_type": "markdown",
   "id": "1e951747-ab15-49f1-b3bc-8f1fce0758fe",
   "metadata": {},
   "source": [
    "## **3. Validación Cruzada**"
   ]
  },
  {
   "cell_type": "code",
   "execution_count": null,
   "id": "4e810f70-e8e2-4e2c-bb85-6db95e61b5c0",
   "metadata": {},
   "outputs": [],
   "source": []
  },
  {
   "cell_type": "code",
   "execution_count": null,
   "id": "697aa918-b8e3-49d0-b730-081f823f986c",
   "metadata": {},
   "outputs": [],
   "source": []
  }
 ],
 "metadata": {
  "kernelspec": {
   "display_name": "Python 3 (ipykernel)",
   "language": "python",
   "name": "python3"
  },
  "language_info": {
   "codemirror_mode": {
    "name": "ipython",
    "version": 3
   },
   "file_extension": ".py",
   "mimetype": "text/x-python",
   "name": "python",
   "nbconvert_exporter": "python",
   "pygments_lexer": "ipython3",
   "version": "3.10.4"
  }
 },
 "nbformat": 4,
 "nbformat_minor": 5
}
