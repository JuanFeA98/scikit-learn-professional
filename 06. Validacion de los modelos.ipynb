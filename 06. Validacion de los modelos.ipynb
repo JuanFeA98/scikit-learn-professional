{
 "cells": [
  {
   "cell_type": "markdown",
   "id": "3600d727-31a2-4e82-b9d6-15caad3feedb",
   "metadata": {},
   "source": [
    "<h1 style=\"text-align: center; font-weight: bolder\">\n",
    "    Validación de los modelos\n",
    "</h1>"
   ]
  },
  {
   "cell_type": "markdown",
   "id": "ee265fd7-49ee-4838-8c00-7d7896fe9c96",
   "metadata": {},
   "source": [
    "## **Librerias**"
   ]
  },
  {
   "cell_type": "code",
   "execution_count": 2,
   "id": "ceb39b8a-d164-4335-a140-ac0529117e1f",
   "metadata": {},
   "outputs": [],
   "source": [
    "import pandas as pd\n",
    "import numpy as np\n",
    "import matplotlib.pyplot as plt\n",
    "import seaborn as sns"
   ]
  },
  {
   "cell_type": "code",
   "execution_count": 10,
   "id": "15813d0a-8609-4dc9-80ea-0ecb64566818",
   "metadata": {},
   "outputs": [],
   "source": [
    "from sklearn.tree import DecisionTreeRegressor\n",
    "\n",
    "from sklearn.model_selection import cross_val_score, KFold"
   ]
  },
  {
   "cell_type": "markdown",
   "id": "39752397-16d6-4878-b0a5-7c57049f3e98",
   "metadata": {},
   "source": [
    "## **1. Datos**"
   ]
  },
  {
   "cell_type": "code",
   "execution_count": 4,
   "id": "ce55fc2b-072e-43e1-98ca-e129bd224839",
   "metadata": {},
   "outputs": [],
   "source": [
    "# Cargamos nuestro dataset\n",
    "df = pd.read_csv('data/felicidad.csv')"
   ]
  },
  {
   "cell_type": "code",
   "execution_count": 5,
   "id": "66789182-4e9e-4908-9ef3-0e38688cfacf",
   "metadata": {},
   "outputs": [
    {
     "data": {
      "text/html": [
       "<div>\n",
       "<style scoped>\n",
       "    .dataframe tbody tr th:only-of-type {\n",
       "        vertical-align: middle;\n",
       "    }\n",
       "\n",
       "    .dataframe tbody tr th {\n",
       "        vertical-align: top;\n",
       "    }\n",
       "\n",
       "    .dataframe thead th {\n",
       "        text-align: right;\n",
       "    }\n",
       "</style>\n",
       "<table border=\"1\" class=\"dataframe\">\n",
       "  <thead>\n",
       "    <tr style=\"text-align: right;\">\n",
       "      <th></th>\n",
       "      <th>country</th>\n",
       "      <th>rank</th>\n",
       "      <th>score</th>\n",
       "      <th>high</th>\n",
       "      <th>low</th>\n",
       "      <th>gdp</th>\n",
       "      <th>family</th>\n",
       "      <th>lifexp</th>\n",
       "      <th>freedom</th>\n",
       "      <th>generosity</th>\n",
       "      <th>corruption</th>\n",
       "      <th>dystopia</th>\n",
       "    </tr>\n",
       "  </thead>\n",
       "  <tbody>\n",
       "    <tr>\n",
       "      <th>29</th>\n",
       "      <td>Panama</td>\n",
       "      <td>30</td>\n",
       "      <td>6.452</td>\n",
       "      <td>6.557131</td>\n",
       "      <td>6.34687</td>\n",
       "      <td>1.233748</td>\n",
       "      <td>1.373193</td>\n",
       "      <td>0.706156</td>\n",
       "      <td>0.550027</td>\n",
       "      <td>0.210557</td>\n",
       "      <td>0.070984</td>\n",
       "      <td>2.3072</td>\n",
       "    </tr>\n",
       "  </tbody>\n",
       "</table>\n",
       "</div>"
      ],
      "text/plain": [
       "   country  rank  score      high      low       gdp    family    lifexp  \\\n",
       "29  Panama    30  6.452  6.557131  6.34687  1.233748  1.373193  0.706156   \n",
       "\n",
       "     freedom  generosity  corruption  dystopia  \n",
       "29  0.550027    0.210557    0.070984    2.3072  "
      ]
     },
     "execution_count": 5,
     "metadata": {},
     "output_type": "execute_result"
    }
   ],
   "source": [
    "df.sample()"
   ]
  },
  {
   "cell_type": "code",
   "execution_count": 6,
   "id": "11d4061e-7d0b-4ee5-9af8-605fea1819e8",
   "metadata": {},
   "outputs": [],
   "source": [
    "# Definimos los features y el target\n",
    "X = df.drop(['country', 'rank', 'score'], axis = 1)\n",
    "y = df['score']"
   ]
  },
  {
   "cell_type": "markdown",
   "id": "9d67f615-6a1e-4a53-8232-53364e690a41",
   "metadata": {},
   "source": [
    "## **2. Modelos**"
   ]
  },
  {
   "cell_type": "markdown",
   "id": "2c139ce9-3c95-4902-928c-9eef64832b45",
   "metadata": {},
   "source": [
    "### **Decision Tree**"
   ]
  },
  {
   "cell_type": "code",
   "execution_count": 7,
   "id": "3c4d7c54-aed0-42e8-8796-460c67f11425",
   "metadata": {},
   "outputs": [],
   "source": [
    "# Inicializamos el modelo\n",
    "decision_tree = DecisionTreeRegressor()"
   ]
  },
  {
   "cell_type": "code",
   "execution_count": 8,
   "id": "98655c8b-1d57-4cce-a70e-27a4423a507d",
   "metadata": {},
   "outputs": [],
   "source": [
    "# Utilizamos cross validation para evaluar el mejor modelo\n",
    "score = cross_val_score(decision_tree, X, y, cv=7,scoring='neg_mean_squared_error')"
   ]
  },
  {
   "cell_type": "code",
   "execution_count": 9,
   "id": "b15ed99f-b810-4e74-bc6b-f86f7875ff6f",
   "metadata": {},
   "outputs": [
    {
     "data": {
      "text/plain": [
       "array([-0.37104624, -0.02898875, -0.03222845, -0.02477518, -0.03756638,\n",
       "       -0.03581911, -0.32937437])"
      ]
     },
     "execution_count": 9,
     "metadata": {},
     "output_type": "execute_result"
    }
   ],
   "source": [
    "score"
   ]
  }
 ],
 "metadata": {
  "kernelspec": {
   "display_name": "Python 3 (ipykernel)",
   "language": "python",
   "name": "python3"
  },
  "language_info": {
   "codemirror_mode": {
    "name": "ipython",
    "version": 3
   },
   "file_extension": ".py",
   "mimetype": "text/x-python",
   "name": "python",
   "nbconvert_exporter": "python",
   "pygments_lexer": "ipython3",
   "version": "3.10.4"
  }
 },
 "nbformat": 4,
 "nbformat_minor": 5
}
