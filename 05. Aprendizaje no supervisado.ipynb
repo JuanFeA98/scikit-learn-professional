{
 "cells": [
  {
   "cell_type": "markdown",
   "id": "475bb78a-6aa7-4b70-8326-60fbfbe904b2",
   "metadata": {},
   "source": [
    "<h1 style=\"text-align: center; font-weight: bolder\">\n",
    "    Aprendizaje No Supervisado\n",
    "</h1>"
   ]
  },
  {
   "cell_type": "markdown",
   "id": "7832be19-8e94-4b90-975a-3e5ef25b1cca",
   "metadata": {},
   "source": [
    "## **Clustering**\n",
    "\n",
    "Son estrategías que podemos usar para agrupar los datos de tal manera que todos los que pertenezcan a un grupo, sean lo más similares que sea posible entre sí y lo más diferentes a los otros grupos.\n",
    "\n",
    "### **¿Cúando usarlo?**\n",
    "\n",
    "- Cuando no conocemos con anterioridad las etiquetas de nuestros datos.\n",
    "- Queremos descubrir patrones ocultos a simple vista.\n",
    "- Queremos identificar datos atípicos."
   ]
  },
  {
   "cell_type": "markdown",
   "id": "c09efb04-5207-42fe-af8b-3afb98b03af5",
   "metadata": {},
   "source": [
    "## **Librerias**"
   ]
  },
  {
   "cell_type": "code",
   "execution_count": 1,
   "id": "637d3186-45ae-4f7a-8f15-407222e9725f",
   "metadata": {},
   "outputs": [],
   "source": [
    "import pandas as pd\n",
    "import numpy as np\n",
    "import matplotlib.pyplot as plt\n",
    "import seaborn as sns"
   ]
  },
  {
   "cell_type": "code",
   "execution_count": 2,
   "id": "bb847e93-a1a3-476d-8995-ae9406b3f270",
   "metadata": {},
   "outputs": [],
   "source": [
    "pd.options.display.max_columns = False"
   ]
  },
  {
   "cell_type": "code",
   "execution_count": 60,
   "id": "80fd60b3-308b-4236-b5cf-2c2dc8159aab",
   "metadata": {},
   "outputs": [],
   "source": [
    "from sklearn.cluster import KMeans\n",
    "from sklearn.cluster import MeanShift"
   ]
  },
  {
   "cell_type": "markdown",
   "id": "4a0d7d43-3ae9-434a-8a60-af5dc6d280f3",
   "metadata": {},
   "source": [
    "## **Datos**"
   ]
  },
  {
   "cell_type": "code",
   "execution_count": 3,
   "id": "1a91a74c-2230-45cd-a36d-855b06f82916",
   "metadata": {},
   "outputs": [],
   "source": [
    "# Cargamos nuestro dataset\n",
    "df = pd.read_csv('data/candy.csv')"
   ]
  },
  {
   "cell_type": "code",
   "execution_count": 5,
   "id": "ec886e8e-d937-43d3-a33a-7e066c351272",
   "metadata": {},
   "outputs": [
    {
     "data": {
      "text/html": [
       "<div>\n",
       "<style scoped>\n",
       "    .dataframe tbody tr th:only-of-type {\n",
       "        vertical-align: middle;\n",
       "    }\n",
       "\n",
       "    .dataframe tbody tr th {\n",
       "        vertical-align: top;\n",
       "    }\n",
       "\n",
       "    .dataframe thead th {\n",
       "        text-align: right;\n",
       "    }\n",
       "</style>\n",
       "<table border=\"1\" class=\"dataframe\">\n",
       "  <thead>\n",
       "    <tr style=\"text-align: right;\">\n",
       "      <th></th>\n",
       "      <th>competitorname</th>\n",
       "      <th>chocolate</th>\n",
       "      <th>fruity</th>\n",
       "      <th>caramel</th>\n",
       "      <th>peanutyalmondy</th>\n",
       "      <th>nougat</th>\n",
       "      <th>crispedricewafer</th>\n",
       "      <th>hard</th>\n",
       "      <th>bar</th>\n",
       "      <th>pluribus</th>\n",
       "      <th>sugarpercent</th>\n",
       "      <th>pricepercent</th>\n",
       "      <th>winpercent</th>\n",
       "    </tr>\n",
       "  </thead>\n",
       "  <tbody>\n",
       "    <tr>\n",
       "      <th>13</th>\n",
       "      <td>Dots</td>\n",
       "      <td>0</td>\n",
       "      <td>1</td>\n",
       "      <td>0</td>\n",
       "      <td>0</td>\n",
       "      <td>0</td>\n",
       "      <td>0</td>\n",
       "      <td>0</td>\n",
       "      <td>0</td>\n",
       "      <td>1</td>\n",
       "      <td>0.732</td>\n",
       "      <td>0.511</td>\n",
       "      <td>42.272076</td>\n",
       "    </tr>\n",
       "    <tr>\n",
       "      <th>17</th>\n",
       "      <td>Gobstopper</td>\n",
       "      <td>0</td>\n",
       "      <td>1</td>\n",
       "      <td>0</td>\n",
       "      <td>0</td>\n",
       "      <td>0</td>\n",
       "      <td>0</td>\n",
       "      <td>1</td>\n",
       "      <td>0</td>\n",
       "      <td>1</td>\n",
       "      <td>0.906</td>\n",
       "      <td>0.453</td>\n",
       "      <td>46.783348</td>\n",
       "    </tr>\n",
       "    <tr>\n",
       "      <th>3</th>\n",
       "      <td>One quarter</td>\n",
       "      <td>0</td>\n",
       "      <td>0</td>\n",
       "      <td>0</td>\n",
       "      <td>0</td>\n",
       "      <td>0</td>\n",
       "      <td>0</td>\n",
       "      <td>0</td>\n",
       "      <td>0</td>\n",
       "      <td>0</td>\n",
       "      <td>0.011</td>\n",
       "      <td>0.511</td>\n",
       "      <td>46.116505</td>\n",
       "    </tr>\n",
       "    <tr>\n",
       "      <th>26</th>\n",
       "      <td>Jawbusters</td>\n",
       "      <td>0</td>\n",
       "      <td>1</td>\n",
       "      <td>0</td>\n",
       "      <td>0</td>\n",
       "      <td>0</td>\n",
       "      <td>0</td>\n",
       "      <td>1</td>\n",
       "      <td>0</td>\n",
       "      <td>1</td>\n",
       "      <td>0.093</td>\n",
       "      <td>0.511</td>\n",
       "      <td>28.127439</td>\n",
       "    </tr>\n",
       "    <tr>\n",
       "      <th>6</th>\n",
       "      <td>Baby Ruth</td>\n",
       "      <td>1</td>\n",
       "      <td>0</td>\n",
       "      <td>1</td>\n",
       "      <td>1</td>\n",
       "      <td>1</td>\n",
       "      <td>0</td>\n",
       "      <td>0</td>\n",
       "      <td>1</td>\n",
       "      <td>0</td>\n",
       "      <td>0.604</td>\n",
       "      <td>0.767</td>\n",
       "      <td>56.914547</td>\n",
       "    </tr>\n",
       "  </tbody>\n",
       "</table>\n",
       "</div>"
      ],
      "text/plain": [
       "   competitorname  chocolate  fruity  caramel  ...  pluribus  sugarpercent  pricepercent  winpercent\n",
       "13           Dots          0       1        0  ...         1         0.732         0.511   42.272076\n",
       "17     Gobstopper          0       1        0  ...         1         0.906         0.453   46.783348\n",
       "3     One quarter          0       0        0  ...         0         0.011         0.511   46.116505\n",
       "26     Jawbusters          0       1        0  ...         1         0.093         0.511   28.127439\n",
       "6       Baby Ruth          1       0        1  ...         0         0.604         0.767   56.914547\n",
       "\n",
       "[5 rows x 13 columns]"
      ]
     },
     "execution_count": 5,
     "metadata": {},
     "output_type": "execute_result"
    }
   ],
   "source": [
    "df.sample(5)"
   ]
  },
  {
   "cell_type": "code",
   "execution_count": 8,
   "id": "8e1e8c02-3d60-4a4e-a145-36f2ae449609",
   "metadata": {},
   "outputs": [],
   "source": [
    "# Creamos el dataset con nuestros features\n",
    "X = df.drop('competitorname', axis=1)"
   ]
  },
  {
   "cell_type": "markdown",
   "id": "54dd070b-6080-464d-b3f1-8af4e328090d",
   "metadata": {},
   "source": [
    "## **Modelos**"
   ]
  },
  {
   "cell_type": "markdown",
   "id": "77a6b09b-21a3-4aa8-a460-a73662ac8fe4",
   "metadata": {},
   "source": [
    "### **Kmeans**"
   ]
  },
  {
   "cell_type": "code",
   "execution_count": 22,
   "id": "9d18920a-f5fc-4cd8-bcd0-c2daffd7ec4f",
   "metadata": {},
   "outputs": [],
   "source": [
    "# Inicializamos el modelo\n",
    "kmeans = KMeans(n_clusters=4)"
   ]
  },
  {
   "cell_type": "code",
   "execution_count": 23,
   "id": "d6d1ac45-db4a-464a-9964-59eca3738b65",
   "metadata": {},
   "outputs": [
    {
     "data": {
      "text/plain": [
       "KMeans(n_clusters=4)"
      ]
     },
     "execution_count": 23,
     "metadata": {},
     "output_type": "execute_result"
    }
   ],
   "source": [
    "# Entrenamos el modelo\n",
    "kmeans.fit(X)"
   ]
  },
  {
   "cell_type": "code",
   "execution_count": 65,
   "id": "06905dd8-2e70-40a9-96c2-fbb8eb204242",
   "metadata": {},
   "outputs": [],
   "source": [
    "# Realizamos una predición con el modelo\n",
    "kmeans_pred = kmeans.predict(X)"
   ]
  },
  {
   "cell_type": "code",
   "execution_count": 67,
   "id": "6938a235-0670-4596-8a60-cb4b6c544394",
   "metadata": {},
   "outputs": [],
   "source": [
    "# Agregamos la predicción a nuestro dataset\n",
    "df['KMeans_Pred'] = kmeans_pred"
   ]
  },
  {
   "cell_type": "code",
   "execution_count": 99,
   "id": "fc4307f3-a9cc-4d47-be79-3afd6a658a8e",
   "metadata": {},
   "outputs": [
    {
     "data": {
      "image/png": "[encoded data removed]",
      "text/plain": [
       "<Figure size 432x288 with 1 Axes>"
      ]
     },
     "metadata": {
      "needs_background": "light"
     },
     "output_type": "display_data"
    }
   ],
   "source": [
    "kmeans_result = df.groupby('KMeans_Pred')[['competitorname']].count().reset_index()\n",
    "\n",
    "plt.bar(kmeans_result['KMeans_Pred'], height=kmeans_result['competitorname'])\n",
    "plt.show()"
   ]
  },
  {
   "cell_type": "code",
   "execution_count": 68,
   "id": "8792ee8d-6134-4eca-8a82-393df4b09398",
   "metadata": {},
   "outputs": [
    {
     "data": {
      "image/png": "[encoded data removed]",
      "text/plain": [
       "<Figure size 432x288 with 1 Axes>"
      ]
     },
     "metadata": {
      "needs_background": "light"
     },
     "output_type": "display_data"
    }
   ],
   "source": [
    "# Graficamos la distribución de los clusters\n",
    "plt.scatter(df['winpercent'], df['sugarpercent'], c=df['KMeans_Pred'])\n",
    "plt.show()"
   ]
  },
  {
   "cell_type": "markdown",
   "id": "9fd9bc97-75f9-476c-ac19-5fa9300848f1",
   "metadata": {},
   "source": [
    "### **Mean-Shift**"
   ]
  },
  {
   "cell_type": "code",
   "execution_count": 71,
   "id": "ec7eea5e-ae95-48d3-ae79-0a1a9cbe4be4",
   "metadata": {},
   "outputs": [],
   "source": [
    "# Inicializamos el modelo\n",
    "mean_shift = MeanShift()"
   ]
  },
  {
   "cell_type": "code",
   "execution_count": 62,
   "id": "577146df-c989-41cf-8f3f-178c63778a2e",
   "metadata": {},
   "outputs": [
    {
     "data": {
      "text/plain": [
       "MeanShift()"
      ]
     },
     "execution_count": 62,
     "metadata": {},
     "output_type": "execute_result"
    }
   ],
   "source": [
    "# Entrenamos el modelo\n",
    "mean_shift.fit(X)"
   ]
  },
  {
   "cell_type": "code",
   "execution_count": 64,
   "id": "57edc4a9-53b6-461a-ab4a-242250a4f28a",
   "metadata": {},
   "outputs": [],
   "source": [
    "# Realizamos una predición con el modelo\n",
    "mean_shift_pred = mean_shift.predict(X)"
   ]
  },
  {
   "cell_type": "code",
   "execution_count": 98,
   "id": "b62a4357-d767-419b-9e62-280d51d72dc8",
   "metadata": {},
   "outputs": [
    {
     "data": {
      "image/png": "[encoded data removed]",
      "text/plain": [
       "<Figure size 432x288 with 1 Axes>"
      ]
     },
     "metadata": {
      "needs_background": "light"
     },
     "output_type": "display_data"
    }
   ],
   "source": [
    "mean_shift_result = df.groupby('Mean_Shift_Pred')[['competitorname']].count().reset_index()\n",
    "\n",
    "plt.bar(mean_shift_result['Mean_Shift_Pred'], height=mean_shift_result['competitorname'])\n",
    "plt.show()"
   ]
  },
  {
   "cell_type": "code",
   "execution_count": 72,
   "id": "e30966d6-8d31-4e6f-9ed2-5c6f75a43be6",
   "metadata": {},
   "outputs": [],
   "source": [
    "# Agregamos la predicción a nuestro dataset\n",
    "df['Mean_Shift_Pred'] = mean_shift_pred"
   ]
  },
  {
   "cell_type": "code",
   "execution_count": 73,
   "id": "a240bc0c-59d2-4bd4-8cbd-51ff949e3d0d",
   "metadata": {},
   "outputs": [
    {
     "data": {
      "image/png": "[encoded data removed]",
      "text/plain": [
       "<Figure size 432x288 with 1 Axes>"
      ]
     },
     "metadata": {
      "needs_background": "light"
     },
     "output_type": "display_data"
    }
   ],
   "source": [
    "# Graficamos la distribución de los clusters\n",
    "plt.scatter(df['winpercent'], df['sugarpercent'], c=df['Mean_Shift_Pred'])\n",
    "plt.show()"
   ]
  }
 ],
 "metadata": {
  "kernelspec": {
   "display_name": "Python 3 (ipykernel)",
   "language": "python",
   "name": "python3"
  },
  "language_info": {
   "codemirror_mode": {
    "name": "ipython",
    "version": 3
   },
   "file_extension": ".py",
   "mimetype": "text/x-python",
   "name": "python",
   "nbconvert_exporter": "python",
   "pygments_lexer": "ipython3",
   "version": "3.10.4"
  }
 },
 "nbformat": 4,
 "nbformat_minor": 5
}
