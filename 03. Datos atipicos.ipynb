{
 "cells": [
  {
   "cell_type": "markdown",
   "id": "2874d240-7490-4b89-a862-d0a2008f766e",
   "metadata": {},
   "source": [
    "<h1 style=\"text-align: center; font-weight: bolder\">\n",
    "    Datos atípicos\n",
    "</h1>"
   ]
  },
  {
   "cell_type": "markdown",
   "id": "89f86a07-894c-40d2-b414-e1d502859cbc",
   "metadata": {},
   "source": [
    "Un valor atípico es cualquier medición que se encuentra por fuera del comportamiento general de una muestra de datos.\n",
    "\n",
    "Pueden indicar variabilidad, errores de medición o novedades."
   ]
  },
  {
   "cell_type": "markdown",
   "id": "7738699c-eb1e-4831-82f9-48d49c69097f",
   "metadata": {},
   "source": [
    "## **¿Cómo identificarlos?**\n",
    "\n",
    "### Metodos Estadisticos:\n",
    "\n",
    "- **Z-Score:** Mide la distancia, en desviaciones estándar, de un punto dado a la media.\n",
    "- Técnicas de clustering como **DBSCAN**\n",
    "- **Rango intercuartil** Si q<Q1 - (1.5 * IQR) o q>Q3 + (1.5 * IQR)\n",
    "- Regresiones robustas."
   ]
  },
  {
   "cell_type": "markdown",
   "id": "8b32d9ab-4b64-49fb-a60a-aa9ea806d8ef",
   "metadata": {},
   "source": [
    "## **Librerias**"
   ]
  },
  {
   "cell_type": "code",
   "execution_count": 1,
   "id": "c22c10bc-0ff0-4ab8-8a91-f374c9383150",
   "metadata": {},
   "outputs": [],
   "source": [
    "import pandas as pd\n",
    "import numpy as np"
   ]
  },
  {
   "cell_type": "code",
   "execution_count": 2,
   "id": "fa40435b-0b33-4e61-a30a-e849ba6c1e33",
   "metadata": {},
   "outputs": [],
   "source": [
    "from sklearn.linear_model import RANSACRegressor, HuberRegressor\n",
    "from sklearn.svm import SVR\n",
    "\n",
    "from sklearn.model_selection import train_test_split\n",
    "from sklearn.metrics import mean_squared_error"
   ]
  },
  {
   "cell_type": "markdown",
   "id": "9693d653-e242-4304-a4c9-253a3681aca4",
   "metadata": {},
   "source": [
    "## **Datos**"
   ]
  },
  {
   "cell_type": "code",
   "execution_count": 3,
   "id": "95d817f7-60b6-4c47-b014-c6e14818b2e0",
   "metadata": {},
   "outputs": [],
   "source": [
    "# Cargamos los datos\n",
    "df = pd.read_csv('data/felicidad.csv')"
   ]
  },
  {
   "cell_type": "code",
   "execution_count": 4,
   "id": "946b62ab-bdb9-46d6-b8b0-374d2b94a408",
   "metadata": {},
   "outputs": [],
   "source": [
    "# Prepamos nuestro dataset\n",
    "features = df.drop(['rank', 'country', 'score'], axis=1).copy()\n",
    "target = df['score'].copy()"
   ]
  },
  {
   "cell_type": "code",
   "execution_count": 5,
   "id": "78b192ee-3d27-46f2-8a60-49774e603c77",
   "metadata": {},
   "outputs": [],
   "source": [
    "# Dividimos el dataset en base de entrenamiento y testeo\n",
    "X_train, X_test, y_train, y_test = train_test_split(features, target, test_size=0.2, random_state=13)"
   ]
  },
  {
   "cell_type": "markdown",
   "id": "a4745a96-5f41-4a34-af0a-1f6a6ab25204",
   "metadata": {},
   "source": [
    "## **Modelos**"
   ]
  },
  {
   "cell_type": "markdown",
   "id": "1ddea401-cb07-4a74-9b2c-9fbb9d036204",
   "metadata": {},
   "source": [
    "### **Random Sample Consensus**"
   ]
  },
  {
   "cell_type": "markdown",
   "id": "d7b7186b-f1f7-4dec-bc25-eeac6b49b4fd",
   "metadata": {},
   "source": [
    "Usamos una muestra aleatoria sobre el conjunto de datos que tenemos, buscamos la muestra que más datos normales logre incluir.\n",
    "\n",
    "El modelo asume que los valores atípicos no tienen patrones específicos."
   ]
  },
  {
   "cell_type": "markdown",
   "id": "6630c4e1-cd29-43c2-a2d1-b590cb97cfcf",
   "metadata": {},
   "source": [
    "### **Huber Regressor**"
   ]
  },
  {
   "cell_type": "markdown",
   "id": "8b950c34-f5ce-4d36-89e5-69f1a8f138b4",
   "metadata": {},
   "source": [
    "Disminuye la influencia de los valores atípicos dentro del modelo.\n",
    "\n",
    "Los datos son tratados como atípicos si el error absoluto de nuestra pérdida está por encima de un umbral llamado *epsilon*.\n",
    "\n",
    "Se ha demostrado que un valor *epsilon* de 1.35 logra un 95% de eficacia estadística."
   ]
  },
  {
   "cell_type": "code",
   "execution_count": 6,
   "id": "4d38b261-f9ba-4469-9004-3fcd1329ae93",
   "metadata": {},
   "outputs": [],
   "source": [
    "estimadores = {\n",
    "    'SVR': SVR(gamma='auto', C=1.0, epsilon=0.1),\n",
    "    'RANSAC': RANSACRegressor(),\n",
    "    'Huber Regressor': HuberRegressor(epsilon=1.35, max_iter=1000)\n",
    "}"
   ]
  },
  {
   "cell_type": "code",
   "execution_count": 15,
   "id": "0865def2-c1a3-4174-abab-11601acd4f0a",
   "metadata": {},
   "outputs": [
    {
     "name": "stdout",
     "output_type": "stream",
     "text": [
      "SVR\n",
      "MSE: 0.031359996200328526\n",
      "****************************************************************\n",
      "RANSAC\n",
      "MSE: 1.6205519232805979e-19\n",
      "****************************************************************\n",
      "Huber Regressor\n",
      "MSE: 5.750070100139861e-10\n",
      "****************************************************************\n"
     ]
    }
   ],
   "source": [
    "for name, estimador in estimadores.items():\n",
    "    estimador.fit(X_train, y_train)\n",
    "    \n",
    "    predictions = estimador.predict(X_test)\n",
    "    \n",
    "    print(name)\n",
    "    print(f'MSE: {mean_squared_error(y_test, predictions)}')\n",
    "    print('*'*64)"
   ]
  }
 ],
 "metadata": {
  "kernelspec": {
   "display_name": "Python 3 (ipykernel)",
   "language": "python",
   "name": "python3"
  },
  "language_info": {
   "codemirror_mode": {
    "name": "ipython",
    "version": 3
   },
   "file_extension": ".py",
   "mimetype": "text/x-python",
   "name": "python",
   "nbconvert_exporter": "python",
   "pygments_lexer": "ipython3",
   "version": "3.8.12"
  }
 },
 "nbformat": 4,
 "nbformat_minor": 5
}
