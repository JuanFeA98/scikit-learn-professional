{
 "cells": [
  {
   "cell_type": "markdown",
   "id": "e7c64024-67fd-456a-8960-e132126f02a5",
   "metadata": {},
   "source": [
    "<h1 style=\"text-align: center; font-weight: bolder\">\n",
    "    Regularización\n",
    "</h1>"
   ]
  },
  {
   "cell_type": "markdown",
   "id": "1fd63ec5-5651-4023-933e-f1c05df908a8",
   "metadata": {},
   "source": [
    "Consiste en reducir la complejidad del modelo a través de una penalización aplicada a sus variables más irrelavantes."
   ]
  },
  {
   "cell_type": "markdown",
   "id": "b9025b1f-0fc5-4fc4-ab9c-5414be977c2a",
   "metadata": {},
   "source": [
    "## **Tipos de regularización**"
   ]
  },
  {
   "cell_type": "markdown",
   "id": "1e86ce50-85b0-4c3f-91d0-2bf3f693798f",
   "metadata": {},
   "source": [
    "- **L1 Lasso** Reducir la complejidad a través de la eliminación de featurees que no aportan demasiado al modelo. Es una buena alternativa cuando hay pocos features que se relacionan directamente con la variable a predecir.\n",
    "\n",
    "- **L2 Ridge** Reducir la complejidad disminuyendo el impacto de ciertos features a nuestro modelo. Es una buena alternativa cuando hay varios features relacionados con la variable a predecir.\n",
    "\n",
    "- **ElasticNet** Es una combinación de L1 Lasso y L2 Ridge."
   ]
  },
  {
   "cell_type": "markdown",
   "id": "8433d94c-d342-4b55-9126-cab9dcf4779d",
   "metadata": {},
   "source": [
    "## **Librerias**"
   ]
  },
  {
   "cell_type": "code",
   "execution_count": 2,
   "id": "f1f92c0e-602e-446d-8d5a-282142b3a467",
   "metadata": {},
   "outputs": [],
   "source": [
    "import pandas as pd\n",
    "import numpy as np"
   ]
  },
  {
   "cell_type": "code",
   "execution_count": 41,
   "id": "5a0bf8f0-7c36-4a65-81cb-2f91c390da06",
   "metadata": {},
   "outputs": [],
   "source": [
    "import sklearn\n",
    "\n",
    "from sklearn.linear_model import LinearRegression, Lasso, Ridge, ElasticNet\n",
    "from sklearn.model_selection import train_test_split\n",
    "from sklearn.metrics import mean_squared_error"
   ]
  },
  {
   "cell_type": "markdown",
   "id": "96d0bdfa-19f6-4fc0-b43e-662b061e10e0",
   "metadata": {},
   "source": [
    "## **Datos**"
   ]
  },
  {
   "cell_type": "markdown",
   "id": "c5278fa3-ec36-4232-92ab-782747232334",
   "metadata": {},
   "source": [
    "### **1. Cargue de los datos**"
   ]
  },
  {
   "cell_type": "code",
   "execution_count": 6,
   "id": "582d1604-c858-4917-9b58-36e66a3feb1f",
   "metadata": {},
   "outputs": [],
   "source": [
    "df = pd.read_csv('data/felicidad.csv')"
   ]
  },
  {
   "cell_type": "code",
   "execution_count": 8,
   "id": "948d7829-8f3f-4d38-a37a-14683aed7626",
   "metadata": {},
   "outputs": [
    {
     "data": {
      "text/html": [
       "<div>\n",
       "<style scoped>\n",
       "    .dataframe tbody tr th:only-of-type {\n",
       "        vertical-align: middle;\n",
       "    }\n",
       "\n",
       "    .dataframe tbody tr th {\n",
       "        vertical-align: top;\n",
       "    }\n",
       "\n",
       "    .dataframe thead th {\n",
       "        text-align: right;\n",
       "    }\n",
       "</style>\n",
       "<table border=\"1\" class=\"dataframe\">\n",
       "  <thead>\n",
       "    <tr style=\"text-align: right;\">\n",
       "      <th></th>\n",
       "      <th>country</th>\n",
       "      <th>rank</th>\n",
       "      <th>score</th>\n",
       "      <th>high</th>\n",
       "      <th>low</th>\n",
       "      <th>gdp</th>\n",
       "      <th>family</th>\n",
       "      <th>lifexp</th>\n",
       "      <th>freedom</th>\n",
       "      <th>generosity</th>\n",
       "      <th>corruption</th>\n",
       "      <th>dystopia</th>\n",
       "    </tr>\n",
       "  </thead>\n",
       "  <tbody>\n",
       "    <tr>\n",
       "      <th>27</th>\n",
       "      <td>Uruguay</td>\n",
       "      <td>28</td>\n",
       "      <td>6.454</td>\n",
       "      <td>6.545906</td>\n",
       "      <td>6.362094</td>\n",
       "      <td>1.21756</td>\n",
       "      <td>1.412228</td>\n",
       "      <td>0.719217</td>\n",
       "      <td>0.579392</td>\n",
       "      <td>0.175097</td>\n",
       "      <td>0.178062</td>\n",
       "      <td>2.17241</td>\n",
       "    </tr>\n",
       "  </tbody>\n",
       "</table>\n",
       "</div>"
      ],
      "text/plain": [
       "    country  rank  score      high       low      gdp    family    lifexp  \\\n",
       "27  Uruguay    28  6.454  6.545906  6.362094  1.21756  1.412228  0.719217   \n",
       "\n",
       "     freedom  generosity  corruption  dystopia  \n",
       "27  0.579392    0.175097    0.178062   2.17241  "
      ]
     },
     "execution_count": 8,
     "metadata": {},
     "output_type": "execute_result"
    }
   ],
   "source": [
    "df.sample()"
   ]
  },
  {
   "cell_type": "markdown",
   "id": "c8888c5b-aadc-4b15-acc0-32c303835176",
   "metadata": {},
   "source": [
    "### **2. Preparamos nuestros datos**"
   ]
  },
  {
   "cell_type": "code",
   "execution_count": 12,
   "id": "735ff3f1-cbb8-43f6-987e-1a65dd1f0f56",
   "metadata": {},
   "outputs": [],
   "source": [
    "features = df[['gdp', 'family', 'lifexp', 'freedom', 'corruption', 'generosity', 'dystopia']].copy()\n",
    "target = df[['score']].copy()"
   ]
  },
  {
   "cell_type": "code",
   "execution_count": 16,
   "id": "dcea8c9d-6533-4d72-b8f2-cc192da38f7d",
   "metadata": {},
   "outputs": [],
   "source": [
    "X_train, X_test, y_train, y_test = train_test_split(features, target, test_size=0.25, random_state=13)"
   ]
  },
  {
   "cell_type": "markdown",
   "id": "571bbfda-c82b-4fc6-9b4e-384ef5589a49",
   "metadata": {},
   "source": [
    "### **3. Modelo de Regresión Lineal**"
   ]
  },
  {
   "cell_type": "code",
   "execution_count": 18,
   "id": "c859063b-434c-4b73-89bb-b132e6d4d999",
   "metadata": {},
   "outputs": [],
   "source": [
    "# Instanciamos el modelo\n",
    "linear_model = LinearRegression()"
   ]
  },
  {
   "cell_type": "code",
   "execution_count": 19,
   "id": "df823054-cd17-453d-955c-2c6ed7d09f2a",
   "metadata": {},
   "outputs": [
    {
     "data": {
      "text/plain": [
       "LinearRegression()"
      ]
     },
     "execution_count": 19,
     "metadata": {},
     "output_type": "execute_result"
    }
   ],
   "source": [
    "# Entrenamos el modelo\n",
    "linear_model.fit(X_train, y_train)"
   ]
  },
  {
   "cell_type": "code",
   "execution_count": 22,
   "id": "d41fbe15-3835-481d-8d39-d0c8d2806b1d",
   "metadata": {},
   "outputs": [],
   "source": [
    "# Realizamos nuestra predicción\n",
    "y_linear_pred = linear_model.predict(X_test)"
   ]
  },
  {
   "cell_type": "code",
   "execution_count": 38,
   "id": "38a9768c-ba7f-4c36-b5fc-64ae3d3de75a",
   "metadata": {},
   "outputs": [
    {
     "data": {
      "text/plain": [
       "1.112802039936069e-07"
      ]
     },
     "execution_count": 38,
     "metadata": {},
     "output_type": "execute_result"
    }
   ],
   "source": [
    "# Evaluamos el modelo\n",
    "linear_loss = mean_squared_error(y_test, y_linear_pred)\n",
    "linear_loss"
   ]
  },
  {
   "cell_type": "markdown",
   "id": "3e0e1336-7566-40e9-bdaa-8709a9e66076",
   "metadata": {},
   "source": [
    "#### **Modelo de Regresión Lineal - Lasso**"
   ]
  },
  {
   "cell_type": "code",
   "execution_count": 29,
   "id": "47c9ea06-5d8c-4022-a3db-fddf59ea2681",
   "metadata": {},
   "outputs": [],
   "source": [
    "# Instanciamos el modelo (Mientras mayor sea alpha, mayor sera la penalización)\n",
    "lasso_model = Lasso(alpha=0.02)"
   ]
  },
  {
   "cell_type": "code",
   "execution_count": 30,
   "id": "4be03943-a273-470e-9659-b3af36f0fc38",
   "metadata": {},
   "outputs": [
    {
     "data": {
      "text/plain": [
       "Lasso(alpha=0.02)"
      ]
     },
     "execution_count": 30,
     "metadata": {},
     "output_type": "execute_result"
    }
   ],
   "source": [
    "# Entrenamos el modelo\n",
    "lasso_model.fit(X_train, y_train)"
   ]
  },
  {
   "cell_type": "code",
   "execution_count": 31,
   "id": "2af0df63-7ad4-4e25-87a4-bfd093ba1705",
   "metadata": {},
   "outputs": [],
   "source": [
    "# Realizamos nuestra predicción\n",
    "y_lasso_pred = lasso_model.predict(X_test)"
   ]
  },
  {
   "cell_type": "code",
   "execution_count": 39,
   "id": "42429d99-e876-470a-99e1-d1e505181488",
   "metadata": {},
   "outputs": [
    {
     "data": {
      "text/plain": [
       "0.03468350926957627"
      ]
     },
     "execution_count": 39,
     "metadata": {},
     "output_type": "execute_result"
    }
   ],
   "source": [
    "# Evaluamos el modelo\n",
    "lasso_loss = mean_squared_error(y_test, y_lasso_pred)\n",
    "lasso_loss"
   ]
  },
  {
   "cell_type": "markdown",
   "id": "57d0edb6-e706-425e-9043-f84819f87499",
   "metadata": {},
   "source": [
    "#### **Modelo de Regresión Lineal - Ridge**"
   ]
  },
  {
   "cell_type": "code",
   "execution_count": 33,
   "id": "3f472268-fe53-4ef0-9d72-c89d23511ad6",
   "metadata": {},
   "outputs": [],
   "source": [
    "# Instanciamos el modelo\n",
    "ridge_model = Ridge(alpha=1)"
   ]
  },
  {
   "cell_type": "code",
   "execution_count": 34,
   "id": "e60b69f2-5ee6-41a1-9133-d9ab01ae6bc5",
   "metadata": {},
   "outputs": [
    {
     "data": {
      "text/plain": [
       "Ridge(alpha=1)"
      ]
     },
     "execution_count": 34,
     "metadata": {},
     "output_type": "execute_result"
    }
   ],
   "source": [
    "# Entrenamos el modelo\n",
    "ridge_model.fit(X_train, y_train)"
   ]
  },
  {
   "cell_type": "code",
   "execution_count": 35,
   "id": "0976baff-e561-4fe7-8abd-d0ec1a32907a",
   "metadata": {},
   "outputs": [],
   "source": [
    "# Realizamos nuestra predicción\n",
    "y_ridge_pred = ridge_model.predict(X_test)"
   ]
  },
  {
   "cell_type": "code",
   "execution_count": 40,
   "id": "c415c89b-5f3a-4c12-96db-b9d902bfb8b1",
   "metadata": {},
   "outputs": [
    {
     "data": {
      "text/plain": [
       "0.00450331722342369"
      ]
     },
     "execution_count": 40,
     "metadata": {},
     "output_type": "execute_result"
    }
   ],
   "source": [
    "# Evaluamos el modelo\n",
    "ridge_loss = mean_squared_error(y_test, y_ridge_pred)\n",
    "ridge_loss"
   ]
  },
  {
   "cell_type": "markdown",
   "id": "b28d5cc1-347f-42fe-9533-357e0042fbc3",
   "metadata": {},
   "source": [
    "#### **Modelo de Regresión Lineal - ElasticNet**"
   ]
  },
  {
   "cell_type": "code",
   "execution_count": 42,
   "id": "fb0ef739-0c00-4561-940a-57cf7d5726ff",
   "metadata": {},
   "outputs": [],
   "source": [
    "# Instanciamos el modelo\n",
    "elasticnet_model = ElasticNet()"
   ]
  },
  {
   "cell_type": "code",
   "execution_count": 43,
   "id": "2900e961-f49a-4216-bc27-02a300fd4680",
   "metadata": {},
   "outputs": [
    {
     "data": {
      "text/plain": [
       "ElasticNet()"
      ]
     },
     "execution_count": 43,
     "metadata": {},
     "output_type": "execute_result"
    }
   ],
   "source": [
    "# Entrenamos el modelo\n",
    "elasticnet_model.fit(X_train, y_train)"
   ]
  },
  {
   "cell_type": "code",
   "execution_count": 44,
   "id": "e4b1a7ea-e1b5-47e8-9013-ea070376d079",
   "metadata": {},
   "outputs": [],
   "source": [
    "# Realizamos nuestra predicción\n",
    "y_elasticnet_pred = elasticnet_model.predict(X_test)"
   ]
  },
  {
   "cell_type": "code",
   "execution_count": 45,
   "id": "17907b6c-d5aa-4c9d-80cd-ad0b6193012e",
   "metadata": {},
   "outputs": [
    {
     "data": {
      "text/plain": [
       "1.351971311197073"
      ]
     },
     "execution_count": 45,
     "metadata": {},
     "output_type": "execute_result"
    }
   ],
   "source": [
    "# Evaluamos el modelo\n",
    "elasticnet_loss = mean_squared_error(y_test, y_elasticnet_pred)\n",
    "elasticnet_loss"
   ]
  }
 ],
 "metadata": {
  "kernelspec": {
   "display_name": "Python 3 (ipykernel)",
   "language": "python",
   "name": "python3"
  },
  "language_info": {
   "codemirror_mode": {
    "name": "ipython",
    "version": 3
   },
   "file_extension": ".py",
   "mimetype": "text/x-python",
   "name": "python",
   "nbconvert_exporter": "python",
   "pygments_lexer": "ipython3",
   "version": "3.10.4"
  }
 },
 "nbformat": 4,
 "nbformat_minor": 5
}
