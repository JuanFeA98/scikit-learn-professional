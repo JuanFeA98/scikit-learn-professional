{
 "cells": [
  {
   "cell_type": "markdown",
   "id": "4cc30733-93fc-4b50-9a14-8cc1a8ee565f",
   "metadata": {},
   "source": [
    "<h1 style=\"text-align: center; font-weight: bolder\">\n",
    "    Métodos de Ensamble\n",
    "</h1>"
   ]
  },
  {
   "cell_type": "markdown",
   "id": "a405d913-45e4-4f90-a482-0dad29dc4b2c",
   "metadata": {},
   "source": [
    "Consiste en combinar diferentes métodos de ML con diferentes configuraciones y aplicar un método para lograr un consenso.\n",
    "\n",
    "La diversidad es una muy buena opción."
   ]
  },
  {
   "cell_type": "markdown",
   "id": "29275632-33c0-4f6a-8bf9-8ffe6bebc936",
   "metadata": {},
   "source": [
    "## **Estrategías**"
   ]
  },
  {
   "cell_type": "markdown",
   "id": "ea7a6a4f-72d3-44b2-a1af-49878698d475",
   "metadata": {},
   "source": [
    "### **Bagging (Bootstrap Aggregation)**\n",
    "\n",
    "Consiste en ejecutar varios modelos en paralelo para que cada uno decida cual es el criterio de la respuesta. Finalmente, mediante algún metodo de consenso se decide la respuesta final.\n",
    "\n",
    "#### **Procedimiento**\n",
    "\n",
    "- Creamos particiones aleatorias (uniforme y con remplazo) del conjunto de datos original.\n",
    "- Se construyen modelos de aprendizaje para cada uno de los subconjuntos por aparte.\n",
    "- La respuesta final es la combinación (Por ejemplo, por votación) entre las respuestas individuales."
   ]
  },
  {
   "cell_type": "markdown",
   "id": "80139f74-7c98-41fd-8e9c-fe4b7af876d4",
   "metadata": {},
   "source": [
    "### **Boosting (Impulsar/Propulsar)**\n",
    "\n",
    "Consiste en encadenar una serie de modelos. Busca fortalecer gradualmente un modelo de aprendizaje usando siempre el error residual de las etapas anteriores.\n",
    "\n",
    "El resultado final tambien se obtiene por consenso entre todos los modelos."
   ]
  },
  {
   "cell_type": "markdown",
   "id": "da7cf7e6-59c4-43c9-ac0c-fdf43887d32a",
   "metadata": {},
   "source": [
    "## **Librerias**"
   ]
  },
  {
   "cell_type": "code",
   "execution_count": 77,
   "id": "16c14a30-63d0-4867-9054-117b9c55b377",
   "metadata": {},
   "outputs": [],
   "source": [
    "import pandas as pd\n",
    "import numpy as np\n",
    "import matplotlib.pyplot as plt\n",
    "import seaborn as sns"
   ]
  },
  {
   "cell_type": "code",
   "execution_count": 76,
   "id": "f4f117dc-b1a4-4fb3-90cf-50b5c40370ff",
   "metadata": {},
   "outputs": [],
   "source": [
    "from sklearn.neighbors import KNeighborsClassifier\n",
    "from sklearn.ensemble import BaggingClassifier, GradientBoostingClassifier\n",
    "\n",
    "from sklearn.model_selection import train_test_split\n",
    "from sklearn.metrics import accuracy_score, confusion_matrix"
   ]
  },
  {
   "cell_type": "markdown",
   "id": "758f4402-a481-489d-9fe3-107d9bddb4c8",
   "metadata": {},
   "source": [
    "## **Datos**"
   ]
  },
  {
   "cell_type": "code",
   "execution_count": 8,
   "id": "d4f5ddc2-7105-45a0-96dd-512ba93e5ec3",
   "metadata": {},
   "outputs": [],
   "source": [
    "# Cargamos los datos\n",
    "df = pd.read_csv('data/heart.csv')"
   ]
  },
  {
   "cell_type": "code",
   "execution_count": 18,
   "id": "eb968fd7-b4fe-4e8b-998a-63581fad9fb9",
   "metadata": {},
   "outputs": [],
   "source": [
    "# Prepamos nuestro dataset\n",
    "features = df.drop('target', axis=1).copy()\n",
    "target = df['target'].copy()"
   ]
  },
  {
   "cell_type": "code",
   "execution_count": 19,
   "id": "510eba2b-45d0-4f5d-81d3-c182c29519bf",
   "metadata": {},
   "outputs": [],
   "source": [
    "# Dividimos el dataset en base de entrenamiento y testeo\n",
    "X_train, X_test, y_train, y_test = train_test_split(features, target, test_size=0.35, random_state=13)"
   ]
  },
  {
   "cell_type": "markdown",
   "id": "a4fdc321-7072-4bb5-95ab-ab77a635347e",
   "metadata": {},
   "source": [
    "## **Modelos**"
   ]
  },
  {
   "cell_type": "markdown",
   "id": "0eb68e8e-11ae-4647-ab7f-54afcdc25ab4",
   "metadata": {},
   "source": [
    "### **1. Modelo Base**"
   ]
  },
  {
   "cell_type": "code",
   "execution_count": 52,
   "id": "22a00c45-1fc1-4ef6-9fae-4c7293697cb3",
   "metadata": {},
   "outputs": [],
   "source": [
    "# Inicializamos el modelo \n",
    "knn_class = KNeighborsClassifier()"
   ]
  },
  {
   "cell_type": "code",
   "execution_count": 53,
   "id": "0492d532-f5e2-45a5-8481-1963eb7e356a",
   "metadata": {},
   "outputs": [
    {
     "data": {
      "text/plain": [
       "KNeighborsClassifier()"
      ]
     },
     "execution_count": 53,
     "metadata": {},
     "output_type": "execute_result"
    }
   ],
   "source": [
    "# Entrenamos el modelo\n",
    "knn_class.fit(X_train, y_train)"
   ]
  },
  {
   "cell_type": "code",
   "execution_count": 54,
   "id": "05165623-96b2-4945-b4a0-d294a4c1d6ee",
   "metadata": {},
   "outputs": [],
   "source": [
    "# Usamos nuestro modelo para predecir\n",
    "y_pred_knn = knn_class.predict(X_test)"
   ]
  },
  {
   "cell_type": "code",
   "execution_count": 55,
   "id": "ed63603f-516b-4f2f-a603-7ad7af759586",
   "metadata": {},
   "outputs": [
    {
     "data": {
      "text/plain": [
       "0.6963788300835655"
      ]
     },
     "execution_count": 55,
     "metadata": {},
     "output_type": "execute_result"
    }
   ],
   "source": [
    "# Evaluamos el modelo\n",
    "accuracy_score(y_pred_knn, y_test)"
   ]
  },
  {
   "cell_type": "code",
   "execution_count": 78,
   "id": "43a47474-b1bb-441f-9fbe-12b58f5c107d",
   "metadata": {},
   "outputs": [],
   "source": [
    "cf_matrix = confusion_matrix(y_test, y_pred_knn)"
   ]
  },
  {
   "cell_type": "code",
   "execution_count": 79,
   "id": "504c529a-50d0-41ef-994d-b7e22a6993ab",
   "metadata": {},
   "outputs": [
    {
     "data": {
      "text/plain": [
       "<AxesSubplot:>"
      ]
     },
     "execution_count": 79,
     "metadata": {},
     "output_type": "execute_result"
    },
    {
     "data": {
      "image/png": "[encoded data removed]",
      "text/plain": [
       "<Figure size 432x288 with 2 Axes>"
      ]
     },
     "metadata": {
      "needs_background": "light"
     },
     "output_type": "display_data"
    }
   ],
   "source": [
    "sns.heatmap(cf_matrix/np.sum(cf_matrix), annot=True, fmt='.2%')"
   ]
  },
  {
   "cell_type": "markdown",
   "id": "c0a2092e-74c9-4258-9965-ddcf0cae2b97",
   "metadata": {},
   "source": [
    "### **2. Metodo Bagging**"
   ]
  },
  {
   "cell_type": "code",
   "execution_count": 56,
   "id": "36f3cc83-a9c9-41b9-baea-f98e5771d6a8",
   "metadata": {},
   "outputs": [],
   "source": [
    "# Inicializamos el metodo\n",
    "bag_class = BaggingClassifier(\n",
    "    base_estimator=KNeighborsClassifier(),\n",
    "    n_estimators=50\n",
    ")"
   ]
  },
  {
   "cell_type": "code",
   "execution_count": 57,
   "id": "ce382331-7a04-4cd4-afef-ffbfbc16bc15",
   "metadata": {},
   "outputs": [
    {
     "data": {
      "text/plain": [
       "BaggingClassifier(base_estimator=KNeighborsClassifier(), n_estimators=50)"
      ]
     },
     "execution_count": 57,
     "metadata": {},
     "output_type": "execute_result"
    }
   ],
   "source": [
    "# Entrenamos el modelo\n",
    "bag_class.fit(X_train, y_train)"
   ]
  },
  {
   "cell_type": "code",
   "execution_count": 58,
   "id": "05847e3b-01a2-4dbb-a041-979dad40dd0e",
   "metadata": {},
   "outputs": [],
   "source": [
    "# Usamos nuestro modelo para predecir\n",
    "y_pred_bag = bag_class.predict(X_test)"
   ]
  },
  {
   "cell_type": "code",
   "execution_count": 59,
   "id": "5b4457db-fd78-433b-871d-155c94914179",
   "metadata": {},
   "outputs": [
    {
     "data": {
      "text/plain": [
       "0.7214484679665738"
      ]
     },
     "execution_count": 59,
     "metadata": {},
     "output_type": "execute_result"
    }
   ],
   "source": [
    "# Evaluamos el modelo\n",
    "accuracy_score(y_pred_bag, y_test)"
   ]
  },
  {
   "cell_type": "code",
   "execution_count": 80,
   "id": "ea19cd5d-ffe8-48cc-a93a-9f09581c2d45",
   "metadata": {},
   "outputs": [],
   "source": [
    "cf_matrix = confusion_matrix(y_test, y_pred_bag)"
   ]
  },
  {
   "cell_type": "code",
   "execution_count": 81,
   "id": "1cf8d066-1cb9-4742-86c8-89cfabbce454",
   "metadata": {},
   "outputs": [
    {
     "data": {
      "text/plain": [
       "<AxesSubplot:>"
      ]
     },
     "execution_count": 81,
     "metadata": {},
     "output_type": "execute_result"
    },
    {
     "data": {
      "image/png": "[encoded data removed]",
      "text/plain": [
       "<Figure size 432x288 with 2 Axes>"
      ]
     },
     "metadata": {
      "needs_background": "light"
     },
     "output_type": "display_data"
    }
   ],
   "source": [
    "sns.heatmap(cf_matrix/np.sum(cf_matrix), annot=True, fmt='.2%')"
   ]
  },
  {
   "cell_type": "markdown",
   "id": "e960a219-dd9b-470b-9871-030d65fc1670",
   "metadata": {},
   "source": [
    "### **3. Metodo Boosting**"
   ]
  },
  {
   "cell_type": "code",
   "execution_count": 70,
   "id": "0c7122aa-1d79-4988-a72c-72e02b75e53f",
   "metadata": {},
   "outputs": [],
   "source": [
    "# Inicializamos el metodo\n",
    "boost_class = GradientBoostingClassifier(\n",
    "    n_estimators=50\n",
    ")"
   ]
  },
  {
   "cell_type": "code",
   "execution_count": 71,
   "id": "592a574d-a8af-4d89-a7e9-e6efc01300a4",
   "metadata": {},
   "outputs": [
    {
     "data": {
      "text/plain": [
       "GradientBoostingClassifier(n_estimators=50)"
      ]
     },
     "execution_count": 71,
     "metadata": {},
     "output_type": "execute_result"
    }
   ],
   "source": [
    "# Entrenamos el modelo\n",
    "boost_class.fit(X_train, y_train)"
   ]
  },
  {
   "cell_type": "code",
   "execution_count": 72,
   "id": "34f7cf14-4d0c-4082-aec3-40d34d5dcbc6",
   "metadata": {},
   "outputs": [],
   "source": [
    "# Usamos nuestro modelo para predecir\n",
    "y_pred_boost = boost_class.predict(X_test)"
   ]
  },
  {
   "cell_type": "code",
   "execution_count": 73,
   "id": "71c736c0-6615-45a3-b3dc-04282f31b204",
   "metadata": {},
   "outputs": [
    {
     "data": {
      "text/plain": [
       "0.9164345403899722"
      ]
     },
     "execution_count": 73,
     "metadata": {},
     "output_type": "execute_result"
    }
   ],
   "source": [
    "# Evaluamos el modelo\n",
    "accuracy_score(y_pred_boost, y_test)"
   ]
  },
  {
   "cell_type": "code",
   "execution_count": 82,
   "id": "8c144564-41aa-46d2-b290-81112d034b44",
   "metadata": {},
   "outputs": [],
   "source": [
    "cf_matrix = confusion_matrix(y_test, y_pred_boost)"
   ]
  },
  {
   "cell_type": "code",
   "execution_count": 83,
   "id": "93e4460c-55b3-4a7f-b2d2-1ef61d6e4dc8",
   "metadata": {},
   "outputs": [
    {
     "data": {
      "text/plain": [
       "<AxesSubplot:>"
      ]
     },
     "execution_count": 83,
     "metadata": {},
     "output_type": "execute_result"
    },
    {
     "data": {
      "image/png": "[encoded data removed]",
      "text/plain": [
       "<Figure size 432x288 with 2 Axes>"
      ]
     },
     "metadata": {
      "needs_background": "light"
     },
     "output_type": "display_data"
    }
   ],
   "source": [
    "sns.heatmap(cf_matrix/np.sum(cf_matrix), annot=True, fmt='.2%')"
   ]
  },
  {
   "cell_type": "code",
   "execution_count": 56,
   "id": "6c86bb45-1d99-4693-998b-d1127b9cba44",
   "metadata": {},
   "outputs": [],
   "source": [
    "A = [3, 6, 4, 5, 2, 1]"
   ]
  },
  {
   "cell_type": "code",
   "execution_count": 22,
   "id": "537e4f15-dfcf-46c0-a55e-5bc595d39fbe",
   "metadata": {},
   "outputs": [],
   "source": [
    "def prueba(x):\n",
    "    i = 1\n",
    "    while i in x:\n",
    "        i = i + 1\n",
    "    return i"
   ]
  },
  {
   "cell_type": "code",
   "execution_count": 161,
   "id": "3fa9f7e0-f3e5-4c3c-8b39-996b00194831",
   "metadata": {},
   "outputs": [],
   "source": [
    "def solution(A):\n",
    "    if max(A) < 0:\n",
    "        return 1\n",
    "    else: \n",
    "        i = 1\n",
    "        while i in A:\n",
    "            i = i + 1\n",
    "        return i"
   ]
  },
  {
   "cell_type": "code",
   "execution_count": 162,
   "id": "705468e6-3acd-44c6-85bd-272a50dc6be5",
   "metadata": {},
   "outputs": [
    {
     "data": {
      "text/plain": [
       "1"
      ]
     },
     "execution_count": 162,
     "metadata": {},
     "output_type": "execute_result"
    }
   ],
   "source": [
    "solution([-1, -3])"
   ]
  },
  {
   "cell_type": "code",
   "execution_count": 57,
   "id": "e30b55c6-2044-4397-9175-2b024eb17fbd",
   "metadata": {},
   "outputs": [
    {
     "data": {
      "text/plain": [
       "7"
      ]
     },
     "execution_count": 57,
     "metadata": {},
     "output_type": "execute_result"
    }
   ],
   "source": [
    "minpositive(A)"
   ]
  },
  {
   "cell_type": "code",
   "execution_count": 182,
   "id": "a02d245d-349e-4bd3-828d-68bec00f5c13",
   "metadata": {},
   "outputs": [],
   "source": [
    "A = 'babaaba'\n",
    "B = 'ababa'"
   ]
  },
  {
   "cell_type": "code",
   "execution_count": 187,
   "id": "5fc08828-afe5-4162-b17a-750f9f8db5e0",
   "metadata": {},
   "outputs": [
    {
     "data": {
      "text/plain": [
       "[1, 50, 30]"
      ]
     },
     "execution_count": 187,
     "metadata": {},
     "output_type": "execute_result"
    }
   ],
   "source": [
    "lista"
   ]
  },
  {
   "cell_type": "code",
   "execution_count": 190,
   "id": "103f5423-6fdb-44af-83f1-8957f1bfbf27",
   "metadata": {},
   "outputs": [
    {
     "name": "stdout",
     "output_type": "stream",
     "text": [
      "b\n",
      "a\n",
      "**********\n",
      "['b', 'a']\n",
      "b\n",
      "a\n",
      "**********\n",
      "['b', 'a']\n",
      "b\n",
      "a\n",
      "**********\n",
      "['b', 'a']\n",
      "b\n",
      "a\n",
      "**********\n",
      "['b', 'a']\n"
     ]
    }
   ],
   "source": [
    "def separar(x):\n",
    "    separaciones = x.count('a')\n",
    "    # return x.split('a')\n",
    "    \n",
    "    for i in range(separaciones):\n",
    "        lista = []\n",
    "        for i in x:\n",
    "            lista.append(i)\n",
    "            print(i)\n",
    "            if i == 'a':\n",
    "                break\n",
    "        print('*'*10)\n",
    "        print(lista)\n",
    "        \n",
    "separar(A)"
   ]
  },
  {
   "cell_type": "code",
   "execution_count": null,
   "id": "e1def186-de8c-451a-b052-5866b2794162",
   "metadata": {},
   "outputs": [],
   "source": []
  }
 ],
 "metadata": {
  "kernelspec": {
   "display_name": "Python 3 (ipykernel)",
   "language": "python",
   "name": "python3"
  },
  "language_info": {
   "codemirror_mode": {
    "name": "ipython",
    "version": 3
   },
   "file_extension": ".py",
   "mimetype": "text/x-python",
   "name": "python",
   "nbconvert_exporter": "python",
   "pygments_lexer": "ipython3",
   "version": "3.8.12"
  }
 },
 "nbformat": 4,
 "nbformat_minor": 5
}
