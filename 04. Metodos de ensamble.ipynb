{
 "cells": [
  {
   "cell_type": "markdown",
   "id": "4cc30733-93fc-4b50-9a14-8cc1a8ee565f",
   "metadata": {},
   "source": [
    "<h1 style=\"text-align: center; font-weight: bolder\">\n",
    "    Métodos de Ensamble\n",
    "</h1>"
   ]
  },
  {
   "cell_type": "markdown",
   "id": "a405d913-45e4-4f90-a482-0dad29dc4b2c",
   "metadata": {},
   "source": [
    "Consiste en combinar diferentes métodos de ML con diferentes configuraciones y aplicar un método para lograr un consenso.\n",
    "\n",
    "La diversidad de distintos métodos es una muy buena opción."
   ]
  },
  {
   "cell_type": "markdown",
   "id": "29275632-33c0-4f6a-8bf9-8ffe6bebc936",
   "metadata": {},
   "source": [
    "## **Estrategías**"
   ]
  },
  {
   "cell_type": "markdown",
   "id": "ea7a6a4f-72d3-44b2-a1af-49878698d475",
   "metadata": {},
   "source": [
    "### **Bagging (Bootstrap Aggregation)**\n",
    "\n",
    "Consiste en ejecutar varios modelos en paralelo para que cada uno decida cual es el criterio de la respuesta. Finalmente, mediante algún metodo de consenso se decide la respuesta final.\n",
    "\n",
    "#### **Procedimiento**\n",
    "\n",
    "- Creamos particiones aleatorias (uniforme y con remplazo) del conjunto de datos original.\n",
    "- Se construyen modelos de aprendizaje para cada uno de los subconjuntos por aparte.\n",
    "- La respuesta final es la combinación (Por ejemplo, por votación) entre las respuestas individuales."
   ]
  },
  {
   "cell_type": "markdown",
   "id": "80139f74-7c98-41fd-8e9c-fe4b7af876d4",
   "metadata": {},
   "source": [
    "### **Boosting (Impulsar/Propulsar)**\n",
    "\n",
    "Consiste en encadenar una serie de modelos. Busca fortalecer gradualmente un modelo de aprendizaje usando siempre el error residual de las etapas anteriores.\n",
    "\n",
    "El resultado final tambien se obtiene por consenso entre todos los modelos."
   ]
  },
  {
   "cell_type": "markdown",
   "id": "da7cf7e6-59c4-43c9-ac0c-fdf43887d32a",
   "metadata": {},
   "source": [
    "## **Librerias**"
   ]
  },
  {
   "cell_type": "code",
   "execution_count": 27,
   "id": "16c14a30-63d0-4867-9054-117b9c55b377",
   "metadata": {},
   "outputs": [],
   "source": [
    "import pandas as pd\n",
    "import numpy as np\n",
    "import matplotlib.pyplot as plt\n",
    "import seaborn as sns"
   ]
  },
  {
   "cell_type": "code",
   "execution_count": 29,
   "id": "f4f117dc-b1a4-4fb3-90cf-50b5c40370ff",
   "metadata": {},
   "outputs": [],
   "source": [
    "from sklearn.neighbors import KNeighborsClassifier\n",
    "from sklearn.ensemble import BaggingClassifier, GradientBoostingClassifier\n",
    "\n",
    "from sklearn.model_selection import train_test_split\n",
    "from sklearn.metrics import accuracy_score, confusion_matrix, classification_report"
   ]
  },
  {
   "cell_type": "markdown",
   "id": "758f4402-a481-489d-9fe3-107d9bddb4c8",
   "metadata": {},
   "source": [
    "## **Datos**"
   ]
  },
  {
   "cell_type": "code",
   "execution_count": 30,
   "id": "d4f5ddc2-7105-45a0-96dd-512ba93e5ec3",
   "metadata": {},
   "outputs": [],
   "source": [
    "# Cargamos los datos\n",
    "df = pd.read_csv('data/heart.csv')"
   ]
  },
  {
   "cell_type": "code",
   "execution_count": 31,
   "id": "eb968fd7-b4fe-4e8b-998a-63581fad9fb9",
   "metadata": {},
   "outputs": [],
   "source": [
    "# Prepamos nuestro dataset\n",
    "features = df.drop('target', axis=1).copy()\n",
    "target = df['target'].copy()"
   ]
  },
  {
   "cell_type": "code",
   "execution_count": 32,
   "id": "510eba2b-45d0-4f5d-81d3-c182c29519bf",
   "metadata": {},
   "outputs": [],
   "source": [
    "# Dividimos el dataset en base de entrenamiento y testeo\n",
    "X_train, X_test, y_train, y_test = train_test_split(features, target, test_size=0.35, random_state=13)"
   ]
  },
  {
   "cell_type": "markdown",
   "id": "a4fdc321-7072-4bb5-95ab-ab77a635347e",
   "metadata": {},
   "source": [
    "## **Modelos**"
   ]
  },
  {
   "cell_type": "markdown",
   "id": "0eb68e8e-11ae-4647-ab7f-54afcdc25ab4",
   "metadata": {},
   "source": [
    "### **1. Modelo Base**"
   ]
  },
  {
   "cell_type": "code",
   "execution_count": 33,
   "id": "22a00c45-1fc1-4ef6-9fae-4c7293697cb3",
   "metadata": {},
   "outputs": [],
   "source": [
    "# Inicializamos el modelo \n",
    "knn_class = KNeighborsClassifier()"
   ]
  },
  {
   "cell_type": "code",
   "execution_count": 34,
   "id": "0492d532-f5e2-45a5-8481-1963eb7e356a",
   "metadata": {},
   "outputs": [
    {
     "data": {
      "text/plain": [
       "KNeighborsClassifier()"
      ]
     },
     "execution_count": 34,
     "metadata": {},
     "output_type": "execute_result"
    }
   ],
   "source": [
    "# Entrenamos el modelo\n",
    "knn_class.fit(X_train, y_train)"
   ]
  },
  {
   "cell_type": "code",
   "execution_count": 35,
   "id": "05165623-96b2-4945-b4a0-d294a4c1d6ee",
   "metadata": {},
   "outputs": [],
   "source": [
    "# Usamos nuestro modelo para predecir\n",
    "y_pred_knn = knn_class.predict(X_test)"
   ]
  },
  {
   "cell_type": "code",
   "execution_count": 36,
   "id": "ed63603f-516b-4f2f-a603-7ad7af759586",
   "metadata": {},
   "outputs": [
    {
     "data": {
      "text/plain": [
       "0.6963788300835655"
      ]
     },
     "execution_count": 36,
     "metadata": {},
     "output_type": "execute_result"
    }
   ],
   "source": [
    "# Evaluamos el modelo\n",
    "accuracy_score(y_pred_knn, y_test)"
   ]
  },
  {
   "cell_type": "code",
   "execution_count": 39,
   "id": "fbb2d86a-1428-48d8-beff-e65a4596c7f4",
   "metadata": {},
   "outputs": [
    {
     "name": "stdout",
     "output_type": "stream",
     "text": [
      "              precision    recall  f1-score   support\n",
      "\n",
      "           0       0.67      0.74      0.70       175\n",
      "           1       0.73      0.65      0.69       184\n",
      "\n",
      "    accuracy                           0.70       359\n",
      "   macro avg       0.70      0.70      0.70       359\n",
      "weighted avg       0.70      0.70      0.70       359\n",
      "\n"
     ]
    }
   ],
   "source": [
    "print(classification_report(y_test, y_pred_knn))"
   ]
  },
  {
   "cell_type": "code",
   "execution_count": 37,
   "id": "43a47474-b1bb-441f-9fbe-12b58f5c107d",
   "metadata": {},
   "outputs": [],
   "source": [
    "cf_matrix = confusion_matrix(y_test, y_pred_knn)"
   ]
  },
  {
   "cell_type": "code",
   "execution_count": 11,
   "id": "504c529a-50d0-41ef-994d-b7e22a6993ab",
   "metadata": {},
   "outputs": [
    {
     "data": {
      "text/plain": [
       "<AxesSubplot:>"
      ]
     },
     "execution_count": 11,
     "metadata": {},
     "output_type": "execute_result"
    },
    {
     "data": {
      "image/png": "[encoded data removed]",
      "text/plain": [
       "<Figure size 432x288 with 2 Axes>"
      ]
     },
     "metadata": {
      "needs_background": "light"
     },
     "output_type": "display_data"
    }
   ],
   "source": [
    "sns.heatmap(cf_matrix/np.sum(cf_matrix), annot=True, fmt='.2%')"
   ]
  },
  {
   "cell_type": "markdown",
   "id": "c0a2092e-74c9-4258-9965-ddcf0cae2b97",
   "metadata": {},
   "source": [
    "### **2. Metodo Bagging**"
   ]
  },
  {
   "cell_type": "code",
   "execution_count": 12,
   "id": "36f3cc83-a9c9-41b9-baea-f98e5771d6a8",
   "metadata": {},
   "outputs": [],
   "source": [
    "# Inicializamos el metodo\n",
    "bag_class = BaggingClassifier(\n",
    "    base_estimator=KNeighborsClassifier(),\n",
    "    n_estimators=50\n",
    ")"
   ]
  },
  {
   "cell_type": "code",
   "execution_count": 13,
   "id": "ce382331-7a04-4cd4-afef-ffbfbc16bc15",
   "metadata": {},
   "outputs": [
    {
     "data": {
      "text/plain": [
       "BaggingClassifier(base_estimator=KNeighborsClassifier(), n_estimators=50)"
      ]
     },
     "execution_count": 13,
     "metadata": {},
     "output_type": "execute_result"
    }
   ],
   "source": [
    "# Entrenamos el modelo\n",
    "bag_class.fit(X_train, y_train)"
   ]
  },
  {
   "cell_type": "code",
   "execution_count": 14,
   "id": "05847e3b-01a2-4dbb-a041-979dad40dd0e",
   "metadata": {},
   "outputs": [],
   "source": [
    "# Usamos nuestro modelo para predecir\n",
    "y_pred_bag = bag_class.predict(X_test)"
   ]
  },
  {
   "cell_type": "code",
   "execution_count": 15,
   "id": "5b4457db-fd78-433b-871d-155c94914179",
   "metadata": {},
   "outputs": [
    {
     "data": {
      "text/plain": [
       "0.7270194986072424"
      ]
     },
     "execution_count": 15,
     "metadata": {},
     "output_type": "execute_result"
    }
   ],
   "source": [
    "# Evaluamos el modelo\n",
    "accuracy_score(y_pred_bag, y_test)"
   ]
  },
  {
   "cell_type": "code",
   "execution_count": 40,
   "id": "96e92936-4d47-4f57-9a81-891dc2e2102d",
   "metadata": {},
   "outputs": [
    {
     "name": "stdout",
     "output_type": "stream",
     "text": [
      "              precision    recall  f1-score   support\n",
      "\n",
      "           0       0.70      0.78      0.74       175\n",
      "           1       0.77      0.67      0.72       184\n",
      "\n",
      "    accuracy                           0.73       359\n",
      "   macro avg       0.73      0.73      0.73       359\n",
      "weighted avg       0.73      0.73      0.73       359\n",
      "\n"
     ]
    }
   ],
   "source": [
    "print(classification_report(y_test, y_pred_bag))"
   ]
  },
  {
   "cell_type": "code",
   "execution_count": 16,
   "id": "ea19cd5d-ffe8-48cc-a93a-9f09581c2d45",
   "metadata": {},
   "outputs": [],
   "source": [
    "cf_matrix = confusion_matrix(y_test, y_pred_bag)"
   ]
  },
  {
   "cell_type": "code",
   "execution_count": 17,
   "id": "1cf8d066-1cb9-4742-86c8-89cfabbce454",
   "metadata": {},
   "outputs": [
    {
     "data": {
      "text/plain": [
       "<AxesSubplot:>"
      ]
     },
     "execution_count": 17,
     "metadata": {},
     "output_type": "execute_result"
    },
    {
     "data": {
      "image/png": "[encoded data removed]",
      "text/plain": [
       "<Figure size 432x288 with 2 Axes>"
      ]
     },
     "metadata": {
      "needs_background": "light"
     },
     "output_type": "display_data"
    }
   ],
   "source": [
    "sns.heatmap(cf_matrix/np.sum(cf_matrix), annot=True, fmt='.2%')"
   ]
  },
  {
   "cell_type": "markdown",
   "id": "e960a219-dd9b-470b-9871-030d65fc1670",
   "metadata": {},
   "source": [
    "### **3. Metodo Boosting**"
   ]
  },
  {
   "cell_type": "code",
   "execution_count": 18,
   "id": "0c7122aa-1d79-4988-a72c-72e02b75e53f",
   "metadata": {},
   "outputs": [],
   "source": [
    "# Inicializamos el metodo\n",
    "boost_class = GradientBoostingClassifier(\n",
    "    n_estimators=50\n",
    ")"
   ]
  },
  {
   "cell_type": "code",
   "execution_count": 19,
   "id": "592a574d-a8af-4d89-a7e9-e6efc01300a4",
   "metadata": {},
   "outputs": [
    {
     "data": {
      "text/plain": [
       "GradientBoostingClassifier(n_estimators=50)"
      ]
     },
     "execution_count": 19,
     "metadata": {},
     "output_type": "execute_result"
    }
   ],
   "source": [
    "# Entrenamos el modelo\n",
    "boost_class.fit(X_train, y_train)"
   ]
  },
  {
   "cell_type": "code",
   "execution_count": 20,
   "id": "34f7cf14-4d0c-4082-aec3-40d34d5dcbc6",
   "metadata": {},
   "outputs": [],
   "source": [
    "# Usamos nuestro modelo para predecir\n",
    "y_pred_boost = boost_class.predict(X_test)"
   ]
  },
  {
   "cell_type": "code",
   "execution_count": 21,
   "id": "71c736c0-6615-45a3-b3dc-04282f31b204",
   "metadata": {},
   "outputs": [
    {
     "data": {
      "text/plain": [
       "0.9164345403899722"
      ]
     },
     "execution_count": 21,
     "metadata": {},
     "output_type": "execute_result"
    }
   ],
   "source": [
    "# Evaluamos el modelo\n",
    "accuracy_score(y_pred_boost, y_test)"
   ]
  },
  {
   "cell_type": "code",
   "execution_count": 41,
   "id": "7aeec2fb-438e-4dea-824e-c71b78d80af4",
   "metadata": {},
   "outputs": [
    {
     "name": "stdout",
     "output_type": "stream",
     "text": [
      "              precision    recall  f1-score   support\n",
      "\n",
      "           0       0.93      0.90      0.91       175\n",
      "           1       0.91      0.93      0.92       184\n",
      "\n",
      "    accuracy                           0.92       359\n",
      "   macro avg       0.92      0.92      0.92       359\n",
      "weighted avg       0.92      0.92      0.92       359\n",
      "\n"
     ]
    }
   ],
   "source": [
    "print(classification_report(y_test, y_pred_boost))"
   ]
  },
  {
   "cell_type": "code",
   "execution_count": 22,
   "id": "8c144564-41aa-46d2-b290-81112d034b44",
   "metadata": {},
   "outputs": [],
   "source": [
    "cf_matrix = confusion_matrix(y_test, y_pred_boost)"
   ]
  },
  {
   "cell_type": "code",
   "execution_count": 23,
   "id": "93e4460c-55b3-4a7f-b2d2-1ef61d6e4dc8",
   "metadata": {},
   "outputs": [
    {
     "data": {
      "text/plain": [
       "<AxesSubplot:>"
      ]
     },
     "execution_count": 23,
     "metadata": {},
     "output_type": "execute_result"
    },
    {
     "data": {
      "image/png": "[encoded data removed]",
      "text/plain": [
       "<Figure size 432x288 with 2 Axes>"
      ]
     },
     "metadata": {
      "needs_background": "light"
     },
     "output_type": "display_data"
    }
   ],
   "source": [
    "sns.heatmap(cf_matrix/np.sum(cf_matrix), annot=True, fmt='.2%')"
   ]
  }
 ],
 "metadata": {
  "kernelspec": {
   "display_name": "Python 3 (ipykernel)",
   "language": "python",
   "name": "python3"
  },
  "language_info": {
   "codemirror_mode": {
    "name": "ipython",
    "version": 3
   },
   "file_extension": ".py",
   "mimetype": "text/x-python",
   "name": "python",
   "nbconvert_exporter": "python",
   "pygments_lexer": "ipython3",
   "version": "3.10.4"
  }
 },
 "nbformat": 4,
 "nbformat_minor": 5
}
