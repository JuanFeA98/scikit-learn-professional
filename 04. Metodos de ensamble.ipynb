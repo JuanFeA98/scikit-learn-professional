{
 "cells": [
  {
   "cell_type": "markdown",
   "id": "4cc30733-93fc-4b50-9a14-8cc1a8ee565f",
   "metadata": {},
   "source": [
    "<h1 style=\"text-align: center; font-weight: bolder\">\n",
    "    Métodos de Ensamble\n",
    "</h1>"
   ]
  },
  {
   "cell_type": "markdown",
   "id": "a405d913-45e4-4f90-a482-0dad29dc4b2c",
   "metadata": {},
   "source": [
    "Consiste en combinar diferentes métodos de ML con diferentes configuraciones y aplicar un método para lograr un consenso.\n",
    "\n",
    "La diversidad es una muy buena opción."
   ]
  },
  {
   "cell_type": "markdown",
   "id": "29275632-33c0-4f6a-8bf9-8ffe6bebc936",
   "metadata": {},
   "source": [
    "## **Estrategías**"
   ]
  },
  {
   "cell_type": "markdown",
   "id": "ea7a6a4f-72d3-44b2-a1af-49878698d475",
   "metadata": {},
   "source": [
    "### **Bagging (Bootstrap Aggregation)**\n",
    "\n",
    "Consiste en ejecutar varios modelos en paralelo para que cada uno decida cual es el criterio de la respuesta. Finalmente, mediante algún metodo de consenso se decide la respuesta final.\n",
    "\n",
    "#### **Procedimiento**\n",
    "\n",
    "- Creamos particiones aleatorias (uniforme y con remplazo) del conjunto de datos original.\n",
    "- Se construyen modelos de aprendizaje para cada uno de los subconjuntos por aparte.\n",
    "- La respuesta final es la combinación (Por ejemplo, por votación) entre las respuestas individuales."
   ]
  },
  {
   "cell_type": "markdown",
   "id": "80139f74-7c98-41fd-8e9c-fe4b7af876d4",
   "metadata": {},
   "source": [
    "### **Boosting (Impulsar/Propulsar)**\n",
    "\n",
    "Consiste en encadenar una serie de modelos. Busca fortalecer gradualmente un modelo de aprendizaje usando siempre el error residual de las etapas anteriores.\n",
    "\n",
    "El resultado final tambien se obtiene por consenso entre todos los modelos."
   ]
  }
 ],
 "metadata": {
  "kernelspec": {
   "display_name": "Python 3 (ipykernel)",
   "language": "python",
   "name": "python3"
  },
  "language_info": {
   "codemirror_mode": {
    "name": "ipython",
    "version": 3
   },
   "file_extension": ".py",
   "mimetype": "text/x-python",
   "name": "python",
   "nbconvert_exporter": "python",
   "pygments_lexer": "ipython3",
   "version": "3.8.12"
  }
 },
 "nbformat": 4,
 "nbformat_minor": 5
}
