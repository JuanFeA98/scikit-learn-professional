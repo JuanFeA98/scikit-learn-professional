{
 "cells": [
  {
   "cell_type": "markdown",
   "id": "966daa7e-eee2-46a1-9cc6-8c62dea9c565",
   "metadata": {},
   "source": [
    "<h1 style=\"text-align: center; font-weight: bolder\">\n",
    "    Optimización Paramétrica\n",
    "</h1>"
   ]
  },
  {
   "cell_type": "markdown",
   "id": "ef2f8d17-940f-4a49-bbcd-968f055e8ad3",
   "metadata": {},
   "source": [
    "## **Librerias**"
   ]
  },
  {
   "cell_type": "code",
   "execution_count": 1,
   "id": "21105841-b319-4851-b8ca-1484410833b0",
   "metadata": {},
   "outputs": [],
   "source": [
    "import pandas as pd\n",
    "import numpy as np\n",
    "import matplotlib.pyplot as plt\n",
    "import seaborn as sns"
   ]
  },
  {
   "cell_type": "code",
   "execution_count": 2,
   "id": "9d3d1ba6-e59b-468b-8a39-165da5bdfda3",
   "metadata": {},
   "outputs": [],
   "source": [
    "from sklearn.ensemble import RandomForestRegressor\n",
    "\n",
    "from sklearn.model_selection import RandomizedSearchCV"
   ]
  },
  {
   "cell_type": "markdown",
   "id": "f31d0639-fffd-47b6-b677-20c0cf5dccbe",
   "metadata": {},
   "source": [
    "## **1. Datos**"
   ]
  },
  {
   "cell_type": "code",
   "execution_count": 3,
   "id": "79ea4de9-c039-4be6-abe5-23570dce8989",
   "metadata": {},
   "outputs": [],
   "source": [
    "# Cargamos nuestro dataset\n",
    "df = pd.read_csv('data/felicidad.csv')"
   ]
  },
  {
   "cell_type": "code",
   "execution_count": 4,
   "id": "fad06cc9-e05e-4ed2-b3df-df288938e875",
   "metadata": {},
   "outputs": [
    {
     "data": {
      "text/html": [
       "<div>\n",
       "<style scoped>\n",
       "    .dataframe tbody tr th:only-of-type {\n",
       "        vertical-align: middle;\n",
       "    }\n",
       "\n",
       "    .dataframe tbody tr th {\n",
       "        vertical-align: top;\n",
       "    }\n",
       "\n",
       "    .dataframe thead th {\n",
       "        text-align: right;\n",
       "    }\n",
       "</style>\n",
       "<table border=\"1\" class=\"dataframe\">\n",
       "  <thead>\n",
       "    <tr style=\"text-align: right;\">\n",
       "      <th></th>\n",
       "      <th>country</th>\n",
       "      <th>rank</th>\n",
       "      <th>score</th>\n",
       "      <th>high</th>\n",
       "      <th>low</th>\n",
       "      <th>gdp</th>\n",
       "      <th>family</th>\n",
       "      <th>lifexp</th>\n",
       "      <th>freedom</th>\n",
       "      <th>generosity</th>\n",
       "      <th>corruption</th>\n",
       "      <th>dystopia</th>\n",
       "    </tr>\n",
       "  </thead>\n",
       "  <tbody>\n",
       "    <tr>\n",
       "      <th>97</th>\n",
       "      <td>Kyrgyzstan</td>\n",
       "      <td>98</td>\n",
       "      <td>5.004</td>\n",
       "      <td>5.08992</td>\n",
       "      <td>4.91808</td>\n",
       "      <td>0.59622</td>\n",
       "      <td>1.394239</td>\n",
       "      <td>0.553458</td>\n",
       "      <td>0.454943</td>\n",
       "      <td>0.42858</td>\n",
       "      <td>0.039439</td>\n",
       "      <td>1.536723</td>\n",
       "    </tr>\n",
       "  </tbody>\n",
       "</table>\n",
       "</div>"
      ],
      "text/plain": [
       "       country  rank  score     high      low      gdp    family    lifexp  \\\n",
       "97  Kyrgyzstan    98  5.004  5.08992  4.91808  0.59622  1.394239  0.553458   \n",
       "\n",
       "     freedom  generosity  corruption  dystopia  \n",
       "97  0.454943     0.42858    0.039439  1.536723  "
      ]
     },
     "execution_count": 4,
     "metadata": {},
     "output_type": "execute_result"
    }
   ],
   "source": [
    "df.sample()"
   ]
  },
  {
   "cell_type": "code",
   "execution_count": 10,
   "id": "f8f44913-ec08-4954-a18b-fa340a9433fd",
   "metadata": {},
   "outputs": [],
   "source": [
    "# Definimos los features y el target\n",
    "X = df.drop(['country', 'rank', 'score'], axis=1)\n",
    "y = df['score']"
   ]
  },
  {
   "cell_type": "markdown",
   "id": "d7dc20d4-c6ab-44fd-a0b9-97e4cca6dd4b",
   "metadata": {},
   "source": [
    "## **2. Modelos**"
   ]
  },
  {
   "cell_type": "code",
   "execution_count": 5,
   "id": "e104198f-068e-4dbb-9362-b0fbbb4f8bfc",
   "metadata": {},
   "outputs": [],
   "source": [
    "# Definimos el regresor\n",
    "reg = RandomForestRegressor()"
   ]
  },
  {
   "cell_type": "code",
   "execution_count": 14,
   "id": "01dec69a-ccdb-4a8b-8658-03ac69936473",
   "metadata": {},
   "outputs": [],
   "source": [
    "# Definimos la grilla de paramétros\n",
    "parametros = {\n",
    "    'n_estimators': range(4, 16),\n",
    "    'criterion': ['squared_error', 'absolute_error'],\n",
    "    'max_depth': range(2, 11) \n",
    "}"
   ]
  },
  {
   "cell_type": "code",
   "execution_count": 15,
   "id": "d4e0bb58-7feb-40af-932e-e066e9a9c3f2",
   "metadata": {},
   "outputs": [],
   "source": [
    "# Inicializamos la optimización\n",
    "rand_est = RandomizedSearchCV(reg, parametros, n_iter=10, cv=3, scoring='neg_mean_absolute_error')"
   ]
  },
  {
   "cell_type": "code",
   "execution_count": 16,
   "id": "1e5ef0f9-0c04-4ab1-874d-a11331160565",
   "metadata": {},
   "outputs": [
    {
     "data": {
      "text/plain": [
       "RandomizedSearchCV(cv=3, estimator=RandomForestRegressor(),\n",
       "                   param_distributions={'criterion': ['squared_error',\n",
       "                                                      'absolute_error'],\n",
       "                                        'max_depth': range(2, 11),\n",
       "                                        'n_estimators': range(4, 16)},\n",
       "                   scoring='neg_mean_absolute_error')"
      ]
     },
     "execution_count": 16,
     "metadata": {},
     "output_type": "execute_result"
    }
   ],
   "source": [
    "# Entrenamos el modelos\n",
    "rand_est.fit(X, y)"
   ]
  },
  {
   "cell_type": "code",
   "execution_count": 19,
   "id": "ce5841ca-1d81-404f-ae7b-29edec9160b9",
   "metadata": {},
   "outputs": [
    {
     "data": {
      "text/plain": [
       "RandomForestRegressor(criterion='absolute_error', max_depth=10, n_estimators=10)"
      ]
     },
     "execution_count": 19,
     "metadata": {},
     "output_type": "execute_result"
    }
   ],
   "source": [
    "# Ver el mejor estimador\n",
    "rand_est.best_estimator_"
   ]
  },
  {
   "cell_type": "code",
   "execution_count": 20,
   "id": "2fda5a33-2a85-4245-a8bb-6aa675c5ba02",
   "metadata": {},
   "outputs": [
    {
     "data": {
      "text/plain": [
       "{'n_estimators': 10, 'max_depth': 10, 'criterion': 'absolute_error'}"
      ]
     },
     "execution_count": 20,
     "metadata": {},
     "output_type": "execute_result"
    }
   ],
   "source": [
    "# Ver los mejores paramétros\n",
    "rand_est.best_params_"
   ]
  },
  {
   "cell_type": "code",
   "execution_count": 21,
   "id": "450f6d56-d0ae-4e18-bc93-801e200dbd67",
   "metadata": {},
   "outputs": [
    {
     "data": {
      "text/plain": [
       "array([7.52390003, 7.50769992, 7.47110004, 7.4993    , 7.47659993,\n",
       "       7.29469991, 7.31869998, 7.30800009, 7.28609996, 7.3026    ,\n",
       "       7.19249988, 7.05230002, 7.02470007, 6.99740005, 7.0110002 ,\n",
       "       6.99540019, 6.87179995, 6.92490001, 6.69900007, 6.65500002,\n",
       "       6.6362998 , 6.6236002 , 6.61490016, 6.59890003, 6.58320007,\n",
       "       6.56750002, 6.51849995, 6.4414    , 6.46220002, 6.46810012,\n",
       "       6.44169993, 6.40649996, 6.44049993, 6.41089988, 6.3993    ,\n",
       "       6.3710999 , 6.35689988, 6.16480012, 6.09840002, 6.08569999,\n",
       "       6.08279996, 6.0841001 , 6.07650008, 5.99939995, 5.99479981,\n",
       "       5.97550001, 5.97510014, 5.96480017, 5.97609987, 5.92579989,\n",
       "       5.90730004, 5.88699994, 5.87820015, 5.86219993, 5.82319984,\n",
       "       5.84219985, 5.84469986, 5.83239989, 5.81570001, 5.83159986,\n",
       "       5.80629992, 5.74519992, 5.73700008, 5.64680009, 5.62099981,\n",
       "       5.59920001, 5.57919984, 5.52620006, 5.49919996, 5.49189997,\n",
       "       5.46570005, 5.43349991, 5.38469996, 5.30879998, 5.31219993,\n",
       "       5.32949991, 5.29880004, 5.27469988, 5.26539984, 5.27139997,\n",
       "       5.26100001, 5.26219997, 5.23365004, 5.2426501 , 5.23300014,\n",
       "       5.23185003, 5.23505013, 5.23064997, 5.1743001 , 5.18050017,\n",
       "       5.20895016, 5.17630019, 5.14880004, 5.07249994, 5.09549994,\n",
       "       5.05559998, 5.02870011, 5.00750012, 4.98949995, 4.9711    ,\n",
       "       4.80679998, 4.80039988, 4.75990009, 4.72680016, 4.71820016,\n",
       "       4.70340014, 4.69440012, 4.70819998, 4.6368    , 4.62029986,\n",
       "       4.54689994, 4.54300003, 4.51460013, 4.54380002, 4.53819995,\n",
       "       4.5198    , 4.50890012, 4.46670012, 4.48120008, 4.46290002,\n",
       "       4.36799994, 4.3184    , 4.27579994, 4.29289989, 4.28949981,\n",
       "       4.24180012, 4.17779999, 4.15639994, 4.11589994, 4.12779994,\n",
       "       4.06199989, 4.0954001 , 4.08679986, 4.05619998, 3.9895999 ,\n",
       "       3.9266    , 3.89590008, 3.86630001, 3.80300007, 3.79200006,\n",
       "       3.76149995, 3.79010005, 3.63220005, 3.62910004, 3.57519996,\n",
       "       3.57189994, 3.51780004, 3.52619996, 3.50519996, 3.50309989,\n",
       "       3.44899995, 3.44979992, 3.43709998, 3.02349997, 2.81230004])"
      ]
     },
     "execution_count": 21,
     "metadata": {},
     "output_type": "execute_result"
    }
   ],
   "source": [
    "# Realizamos la predicción\n",
    "rand_est.predict(X)"
   ]
  }
 ],
 "metadata": {
  "kernelspec": {
   "display_name": "Python 3 (ipykernel)",
   "language": "python",
   "name": "python3"
  },
  "language_info": {
   "codemirror_mode": {
    "name": "ipython",
    "version": 3
   },
   "file_extension": ".py",
   "mimetype": "text/x-python",
   "name": "python",
   "nbconvert_exporter": "python",
   "pygments_lexer": "ipython3",
   "version": "3.10.4"
  }
 },
 "nbformat": 4,
 "nbformat_minor": 5
}
